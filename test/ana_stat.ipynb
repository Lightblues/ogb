{
 "cells": [
  {
   "cell_type": "markdown",
   "metadata": {},
   "source": []
  },
  {
   "cell_type": "markdown",
   "metadata": {},
   "source": [
    "统计图的统计特征\n",
    "\n",
    "1. degree_info(graph) 图上不同类型的边的分位数 in_degrees 信息"
   ]
  },
  {
   "cell_type": "code",
   "execution_count": 13,
   "metadata": {},
   "outputs": [],
   "source": [
    "import numpy as np\n",
    "import pandas as pd\n",
    "import torch\n",
    "import dgl\n"
   ]
  },
  {
   "cell_type": "code",
   "execution_count": 2,
   "metadata": {},
   "outputs": [
    {
     "name": "stdout",
     "output_type": "stream",
     "text": [
      "Graph(num_nodes={'author': 1134649, 'field_of_study': 59965, 'institution': 8740, 'paper': 736389},\n",
      "      num_edges={('author', 'affiliated_with', 'institution'): 1043998, ('author', 'writes', 'paper'): 7145660, ('paper', 'cites', 'paper'): 5416271, ('paper', 'has_topic', 'field_of_study'): 7505078},\n",
      "      metagraph=[('author', 'institution', 'affiliated_with'), ('author', 'paper', 'writes'), ('paper', 'paper', 'cites'), ('paper', 'field_of_study', 'has_topic')])\n"
     ]
    }
   ],
   "source": [
    "from ogb.nodeproppred import PygNodePropPredDataset, Evaluator, DglNodePropPredDataset\n",
    "\n",
    "dataset = DglNodePropPredDataset(name='ogbn-mag')\n",
    "graph = dataset.graph[0]\n",
    "print(graph)"
   ]
  },
  {
   "cell_type": "code",
   "execution_count": 16,
   "metadata": {},
   "outputs": [
    {
     "data": {
      "text/plain": [
       "[('author', 'affiliated_with', 'institution'),\n",
       " ('author', 'writes', 'paper'),\n",
       " ('paper', 'cites', 'paper'),\n",
       " ('paper', 'has_topic', 'field_of_study')]"
      ]
     },
     "execution_count": 16,
     "metadata": {},
     "output_type": "execute_result"
    }
   ],
   "source": [
    "graph.canonical_etypes"
   ]
  },
  {
   "cell_type": "code",
   "execution_count": 15,
   "metadata": {},
   "outputs": [
    {
     "data": {
      "text/plain": [
       "['author', 'field_of_study', 'institution', 'paper']"
      ]
     },
     "execution_count": 15,
     "metadata": {},
     "output_type": "execute_result"
    }
   ],
   "source": [
    "graph.ntypes"
   ]
  },
  {
   "cell_type": "code",
   "execution_count": 9,
   "metadata": {},
   "outputs": [],
   "source": [
    "\n",
    "# 针对 dgl.add_reverse_edges(graph) 的报错: AssertionError: add_reverse_edges is not well defined for unidirectional bipartite graphs, but ('author', 'affiliated_with', 'institution') is unidirectional bipartite\n",
    "# dgl.to_bidirected(graph)\n",
    "# dgl.add_reverse_edges(graph)\n",
    "def convert_hetro_bidirected_to_directed(graph):\n",
    "    # BUG: 好像默认就是 unidirectional bipartite?? \n",
    "    graph_edges = {}\n",
    "    for etype in graph.canonical_etypes:\n",
    "        # 获取边类型的源节点类型、目标节点类型和边类型\n",
    "        src_type, _, dst_type = etype\n",
    "        # 获取原始图中该边类型的边索引\n",
    "        edges = graph.edges(etype=etype)\n",
    "        graph_edges[etype] = edges\n",
    "    return dgl.heterograph(graph_edges)\n",
    "# graph_directed = convert_hetro_bidirected_to_directed(graph)\n",
    "# print(graph_directed)\n"
   ]
  },
  {
   "cell_type": "code",
   "execution_count": 18,
   "metadata": {},
   "outputs": [
    {
     "name": "stdout",
     "output_type": "stream",
     "text": [
      "Graph(num_nodes={'author': 1134649, 'field_of_study': 59965, 'institution': 8740, 'paper': 736389},\n",
      "      num_edges={('author', 'affiliated_with', 'institution'): 1043998, ('author', 'writes', 'paper'): 7145660, ('field_of_study', 'has_topic_rev', 'paper'): 7505078, ('institution', 'affiliated_with_rev', 'author'): 1043998, ('paper', 'cites', 'paper'): 5416271, ('paper', 'cites_rev', 'paper'): 5416271, ('paper', 'has_topic', 'field_of_study'): 7505078, ('paper', 'writes_rev', 'author'): 7145660},\n",
      "      metagraph=[('author', 'institution', 'affiliated_with'), ('author', 'paper', 'writes'), ('institution', 'author', 'affiliated_with_rev'), ('paper', 'paper', 'cites'), ('paper', 'paper', 'cites_rev'), ('paper', 'field_of_study', 'has_topic'), ('paper', 'author', 'writes_rev'), ('field_of_study', 'paper', 'has_topic_rev')])\n"
     ]
    }
   ],
   "source": [
    "def add_reverse_edges(graph:dgl.DGLGraph):\n",
    "    \"\"\" add reversed edges to HetroGraph \"\"\"\n",
    "    graph_edges = {}\n",
    "    for etype in graph.canonical_etypes:\n",
    "        # 获取边类型的源节点类型、目标节点类型和边类型\n",
    "        src_type, _etype, dst_type = etype\n",
    "        # 获取原始图中该边类型的边索引\n",
    "        edges = graph.edges(etype=etype)\n",
    "        graph_edges[etype] = edges\n",
    "        graph_edges[(dst_type, _etype + \"_rev\", src_type)] = edges[::-1]\n",
    "        \n",
    "    return dgl.heterograph(graph_edges)\n",
    "\n",
    "graph_rev = add_reverse_edges(graph)\n",
    "print(graph_rev)"
   ]
  },
  {
   "cell_type": "code",
   "execution_count": 19,
   "metadata": {},
   "outputs": [
    {
     "name": "stdout",
     "output_type": "stream",
     "text": [
      "                 20%  40%   60%   80%      100%\n",
      "affiliated_with  2.0  5.0  16.0  78.0   28169.0\n",
      "writes           2.0  3.0   4.0   7.0    5050.0\n",
      "cites            1.0  2.0   4.0   9.0    4744.0\n",
      "has_topic        1.0  3.0   7.0  30.0  736389.0\n"
     ]
    }
   ],
   "source": [
    "# from tab2graph, 统计每种类型的边的信息\n",
    "def degree_info(graph):\n",
    "    deg = [\n",
    "        graph.in_degrees(etype=etype)\n",
    "        for etype in graph.canonical_etypes\n",
    "    ]\n",
    "    deg_quantile = [\n",
    "        np.quantile(d, [0.2, 0.4, 0.6, 0.8, 1.0])\n",
    "        for d in deg\n",
    "    ]\n",
    "    df = pd.DataFrame(\n",
    "        {\n",
    "            et : qt\n",
    "            for (_, et, _), qt in zip(graph.canonical_etypes, deg_quantile)\n",
    "        },\n",
    "        index=[\"20%\", \"40%\", \"60%\", \"80%\", \"100%\"]\n",
    "    )\n",
    "    return df.transpose()\n",
    "\n",
    "print(degree_info(graph))"
   ]
  },
  {
   "cell_type": "code",
   "execution_count": 20,
   "metadata": {},
   "outputs": [
    {
     "name": "stdout",
     "output_type": "stream",
     "text": [
      "                      20%   40%   60%   80%      100%\n",
      "affiliated_with       2.0   5.0  16.0  78.0   28169.0\n",
      "writes                2.0   3.0   4.0   7.0    5050.0\n",
      "has_topic_rev        10.0  10.0  11.0  11.0      14.0\n",
      "affiliated_with_rev   0.0   1.0   1.0   1.0      47.0\n",
      "cites                 1.0   2.0   4.0   9.0    4744.0\n",
      "cites_rev             1.0   3.0   5.0  11.0     609.0\n",
      "has_topic             1.0   3.0   7.0  30.0  736389.0\n",
      "writes_rev            1.0   1.0   2.0   4.0    1046.0\n"
     ]
    }
   ],
   "source": [
    "print(degree_info(graph_rev))"
   ]
  },
  {
   "cell_type": "code",
   "execution_count": null,
   "metadata": {},
   "outputs": [],
   "source": []
  }
 ],
 "metadata": {
  "kernelspec": {
   "display_name": "tab2graph-cpu",
   "language": "python",
   "name": "python3"
  },
  "language_info": {
   "codemirror_mode": {
    "name": "ipython",
    "version": 3
   },
   "file_extension": ".py",
   "mimetype": "text/x-python",
   "name": "python",
   "nbconvert_exporter": "python",
   "pygments_lexer": "ipython3",
   "version": "3.9.17"
  },
  "orig_nbformat": 4
 },
 "nbformat": 4,
 "nbformat_minor": 2
}
